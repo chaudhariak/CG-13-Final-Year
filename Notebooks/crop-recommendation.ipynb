{
 "cells": [
  {
   "cell_type": "code",
   "execution_count": 1,
   "id": "ed82f6bb",
   "metadata": {
    "execution": {
     "iopub.execute_input": "2023-02-05T04:21:14.498617Z",
     "iopub.status.busy": "2023-02-05T04:21:14.497979Z",
     "iopub.status.idle": "2023-02-05T04:21:15.861116Z",
     "shell.execute_reply": "2023-02-05T04:21:15.860067Z"
    },
    "papermill": {
     "duration": 1.37705,
     "end_time": "2023-02-05T04:21:15.863682",
     "exception": false,
     "start_time": "2023-02-05T04:21:14.486632",
     "status": "completed"
    },
    "tags": []
   },
   "outputs": [],
   "source": [
    "# Importing libraries\n",
    "\n",
    "from __future__ import print_function\n",
    "import pandas as pd\n",
    "import numpy as np\n",
    "import matplotlib.pyplot as plt\n",
    "import seaborn as sns\n",
    "from sklearn.metrics import classification_report\n",
    "from sklearn import metrics\n",
    "from sklearn import tree\n",
    "import warnings\n",
    "warnings.filterwarnings('ignore')"
   ]
  },
  {
   "cell_type": "code",
   "execution_count": 2,
   "id": "5fb65971",
   "metadata": {
    "execution": {
     "iopub.execute_input": "2023-02-05T04:21:15.885247Z",
     "iopub.status.busy": "2023-02-05T04:21:15.884068Z",
     "iopub.status.idle": "2023-02-05T04:21:15.910028Z",
     "shell.execute_reply": "2023-02-05T04:21:15.908815Z"
    },
    "papermill": {
     "duration": 0.039181,
     "end_time": "2023-02-05T04:21:15.912452",
     "exception": false,
     "start_time": "2023-02-05T04:21:15.873271",
     "status": "completed"
    },
    "tags": []
   },
   "outputs": [],
   "source": [
    "df = pd.read_csv('/kaggle/input/crop-recommendation/Crop_recommendation.csv')"
   ]
  },
  {
   "cell_type": "code",
   "execution_count": 3,
   "id": "0e9a5dda",
   "metadata": {
    "execution": {
     "iopub.execute_input": "2023-02-05T04:21:15.933252Z",
     "iopub.status.busy": "2023-02-05T04:21:15.932596Z",
     "iopub.status.idle": "2023-02-05T04:21:15.956432Z",
     "shell.execute_reply": "2023-02-05T04:21:15.955568Z"
    },
    "papermill": {
     "duration": 0.037093,
     "end_time": "2023-02-05T04:21:15.959144",
     "exception": false,
     "start_time": "2023-02-05T04:21:15.922051",
     "status": "completed"
    },
    "tags": []
   },
   "outputs": [
    {
     "data": {
      "text/html": [
       "<div>\n",
       "<style scoped>\n",
       "    .dataframe tbody tr th:only-of-type {\n",
       "        vertical-align: middle;\n",
       "    }\n",
       "\n",
       "    .dataframe tbody tr th {\n",
       "        vertical-align: top;\n",
       "    }\n",
       "\n",
       "    .dataframe thead th {\n",
       "        text-align: right;\n",
       "    }\n",
       "</style>\n",
       "<table border=\"1\" class=\"dataframe\">\n",
       "  <thead>\n",
       "    <tr style=\"text-align: right;\">\n",
       "      <th></th>\n",
       "      <th>N</th>\n",
       "      <th>P</th>\n",
       "      <th>K</th>\n",
       "      <th>temperature</th>\n",
       "      <th>humidity</th>\n",
       "      <th>ph</th>\n",
       "      <th>rainfall</th>\n",
       "      <th>label</th>\n",
       "    </tr>\n",
       "  </thead>\n",
       "  <tbody>\n",
       "    <tr>\n",
       "      <th>0</th>\n",
       "      <td>90</td>\n",
       "      <td>42</td>\n",
       "      <td>43</td>\n",
       "      <td>20.879744</td>\n",
       "      <td>82.002744</td>\n",
       "      <td>6.502985</td>\n",
       "      <td>202.935536</td>\n",
       "      <td>rice</td>\n",
       "    </tr>\n",
       "    <tr>\n",
       "      <th>1</th>\n",
       "      <td>85</td>\n",
       "      <td>58</td>\n",
       "      <td>41</td>\n",
       "      <td>21.770462</td>\n",
       "      <td>80.319644</td>\n",
       "      <td>7.038096</td>\n",
       "      <td>226.655537</td>\n",
       "      <td>rice</td>\n",
       "    </tr>\n",
       "    <tr>\n",
       "      <th>2</th>\n",
       "      <td>60</td>\n",
       "      <td>55</td>\n",
       "      <td>44</td>\n",
       "      <td>23.004459</td>\n",
       "      <td>82.320763</td>\n",
       "      <td>7.840207</td>\n",
       "      <td>263.964248</td>\n",
       "      <td>rice</td>\n",
       "    </tr>\n",
       "    <tr>\n",
       "      <th>3</th>\n",
       "      <td>74</td>\n",
       "      <td>35</td>\n",
       "      <td>40</td>\n",
       "      <td>26.491096</td>\n",
       "      <td>80.158363</td>\n",
       "      <td>6.980401</td>\n",
       "      <td>242.864034</td>\n",
       "      <td>rice</td>\n",
       "    </tr>\n",
       "    <tr>\n",
       "      <th>4</th>\n",
       "      <td>78</td>\n",
       "      <td>42</td>\n",
       "      <td>42</td>\n",
       "      <td>20.130175</td>\n",
       "      <td>81.604873</td>\n",
       "      <td>7.628473</td>\n",
       "      <td>262.717340</td>\n",
       "      <td>rice</td>\n",
       "    </tr>\n",
       "  </tbody>\n",
       "</table>\n",
       "</div>"
      ],
      "text/plain": [
       "    N   P   K  temperature   humidity        ph    rainfall label\n",
       "0  90  42  43    20.879744  82.002744  6.502985  202.935536  rice\n",
       "1  85  58  41    21.770462  80.319644  7.038096  226.655537  rice\n",
       "2  60  55  44    23.004459  82.320763  7.840207  263.964248  rice\n",
       "3  74  35  40    26.491096  80.158363  6.980401  242.864034  rice\n",
       "4  78  42  42    20.130175  81.604873  7.628473  262.717340  rice"
      ]
     },
     "execution_count": 3,
     "metadata": {},
     "output_type": "execute_result"
    }
   ],
   "source": [
    "df.head()"
   ]
  },
  {
   "cell_type": "code",
   "execution_count": 4,
   "id": "ed21c233",
   "metadata": {
    "execution": {
     "iopub.execute_input": "2023-02-05T04:21:15.981507Z",
     "iopub.status.busy": "2023-02-05T04:21:15.980858Z",
     "iopub.status.idle": "2023-02-05T04:21:15.993013Z",
     "shell.execute_reply": "2023-02-05T04:21:15.992117Z"
    },
    "papermill": {
     "duration": 0.025002,
     "end_time": "2023-02-05T04:21:15.994951",
     "exception": false,
     "start_time": "2023-02-05T04:21:15.969949",
     "status": "completed"
    },
    "tags": []
   },
   "outputs": [
    {
     "data": {
      "text/html": [
       "<div>\n",
       "<style scoped>\n",
       "    .dataframe tbody tr th:only-of-type {\n",
       "        vertical-align: middle;\n",
       "    }\n",
       "\n",
       "    .dataframe tbody tr th {\n",
       "        vertical-align: top;\n",
       "    }\n",
       "\n",
       "    .dataframe thead th {\n",
       "        text-align: right;\n",
       "    }\n",
       "</style>\n",
       "<table border=\"1\" class=\"dataframe\">\n",
       "  <thead>\n",
       "    <tr style=\"text-align: right;\">\n",
       "      <th></th>\n",
       "      <th>N</th>\n",
       "      <th>P</th>\n",
       "      <th>K</th>\n",
       "      <th>temperature</th>\n",
       "      <th>humidity</th>\n",
       "      <th>ph</th>\n",
       "      <th>rainfall</th>\n",
       "      <th>label</th>\n",
       "    </tr>\n",
       "  </thead>\n",
       "  <tbody>\n",
       "    <tr>\n",
       "      <th>2195</th>\n",
       "      <td>107</td>\n",
       "      <td>34</td>\n",
       "      <td>32</td>\n",
       "      <td>26.774637</td>\n",
       "      <td>66.413269</td>\n",
       "      <td>6.780064</td>\n",
       "      <td>177.774507</td>\n",
       "      <td>coffee</td>\n",
       "    </tr>\n",
       "    <tr>\n",
       "      <th>2196</th>\n",
       "      <td>99</td>\n",
       "      <td>15</td>\n",
       "      <td>27</td>\n",
       "      <td>27.417112</td>\n",
       "      <td>56.636362</td>\n",
       "      <td>6.086922</td>\n",
       "      <td>127.924610</td>\n",
       "      <td>coffee</td>\n",
       "    </tr>\n",
       "    <tr>\n",
       "      <th>2197</th>\n",
       "      <td>118</td>\n",
       "      <td>33</td>\n",
       "      <td>30</td>\n",
       "      <td>24.131797</td>\n",
       "      <td>67.225123</td>\n",
       "      <td>6.362608</td>\n",
       "      <td>173.322839</td>\n",
       "      <td>coffee</td>\n",
       "    </tr>\n",
       "    <tr>\n",
       "      <th>2198</th>\n",
       "      <td>117</td>\n",
       "      <td>32</td>\n",
       "      <td>34</td>\n",
       "      <td>26.272418</td>\n",
       "      <td>52.127394</td>\n",
       "      <td>6.758793</td>\n",
       "      <td>127.175293</td>\n",
       "      <td>coffee</td>\n",
       "    </tr>\n",
       "    <tr>\n",
       "      <th>2199</th>\n",
       "      <td>104</td>\n",
       "      <td>18</td>\n",
       "      <td>30</td>\n",
       "      <td>23.603016</td>\n",
       "      <td>60.396475</td>\n",
       "      <td>6.779833</td>\n",
       "      <td>140.937041</td>\n",
       "      <td>coffee</td>\n",
       "    </tr>\n",
       "  </tbody>\n",
       "</table>\n",
       "</div>"
      ],
      "text/plain": [
       "        N   P   K  temperature   humidity        ph    rainfall   label\n",
       "2195  107  34  32    26.774637  66.413269  6.780064  177.774507  coffee\n",
       "2196   99  15  27    27.417112  56.636362  6.086922  127.924610  coffee\n",
       "2197  118  33  30    24.131797  67.225123  6.362608  173.322839  coffee\n",
       "2198  117  32  34    26.272418  52.127394  6.758793  127.175293  coffee\n",
       "2199  104  18  30    23.603016  60.396475  6.779833  140.937041  coffee"
      ]
     },
     "execution_count": 4,
     "metadata": {},
     "output_type": "execute_result"
    }
   ],
   "source": [
    "df.tail()"
   ]
  },
  {
   "cell_type": "code",
   "execution_count": 5,
   "id": "509ef5d4",
   "metadata": {
    "execution": {
     "iopub.execute_input": "2023-02-05T04:21:16.016131Z",
     "iopub.status.busy": "2023-02-05T04:21:16.015458Z",
     "iopub.status.idle": "2023-02-05T04:21:16.021846Z",
     "shell.execute_reply": "2023-02-05T04:21:16.021054Z"
    },
    "papermill": {
     "duration": 0.019149,
     "end_time": "2023-02-05T04:21:16.023770",
     "exception": false,
     "start_time": "2023-02-05T04:21:16.004621",
     "status": "completed"
    },
    "tags": []
   },
   "outputs": [
    {
     "data": {
      "text/plain": [
       "17600"
      ]
     },
     "execution_count": 5,
     "metadata": {},
     "output_type": "execute_result"
    }
   ],
   "source": [
    "df.size"
   ]
  },
  {
   "cell_type": "code",
   "execution_count": 6,
   "id": "4901ffb7",
   "metadata": {
    "execution": {
     "iopub.execute_input": "2023-02-05T04:21:16.045422Z",
     "iopub.status.busy": "2023-02-05T04:21:16.044786Z",
     "iopub.status.idle": "2023-02-05T04:21:16.051028Z",
     "shell.execute_reply": "2023-02-05T04:21:16.050199Z"
    },
    "papermill": {
     "duration": 0.019339,
     "end_time": "2023-02-05T04:21:16.052843",
     "exception": false,
     "start_time": "2023-02-05T04:21:16.033504",
     "status": "completed"
    },
    "tags": []
   },
   "outputs": [
    {
     "data": {
      "text/plain": [
       "(2200, 8)"
      ]
     },
     "execution_count": 6,
     "metadata": {},
     "output_type": "execute_result"
    }
   ],
   "source": [
    "df.shape"
   ]
  },
  {
   "cell_type": "code",
   "execution_count": 7,
   "id": "ce93dd0c",
   "metadata": {
    "execution": {
     "iopub.execute_input": "2023-02-05T04:21:16.074847Z",
     "iopub.status.busy": "2023-02-05T04:21:16.074097Z",
     "iopub.status.idle": "2023-02-05T04:21:16.080141Z",
     "shell.execute_reply": "2023-02-05T04:21:16.079452Z"
    },
    "papermill": {
     "duration": 0.019132,
     "end_time": "2023-02-05T04:21:16.081875",
     "exception": false,
     "start_time": "2023-02-05T04:21:16.062743",
     "status": "completed"
    },
    "tags": []
   },
   "outputs": [
    {
     "data": {
      "text/plain": [
       "Index(['N', 'P', 'K', 'temperature', 'humidity', 'ph', 'rainfall', 'label'], dtype='object')"
      ]
     },
     "execution_count": 7,
     "metadata": {},
     "output_type": "execute_result"
    }
   ],
   "source": [
    "df.columns"
   ]
  },
  {
   "cell_type": "code",
   "execution_count": 8,
   "id": "adaffc1f",
   "metadata": {
    "execution": {
     "iopub.execute_input": "2023-02-05T04:21:16.103264Z",
     "iopub.status.busy": "2023-02-05T04:21:16.102655Z",
     "iopub.status.idle": "2023-02-05T04:21:16.115059Z",
     "shell.execute_reply": "2023-02-05T04:21:16.114334Z"
    },
    "papermill": {
     "duration": 0.025123,
     "end_time": "2023-02-05T04:21:16.116798",
     "exception": false,
     "start_time": "2023-02-05T04:21:16.091675",
     "status": "completed"
    },
    "tags": []
   },
   "outputs": [
    {
     "data": {
      "text/plain": [
       "array(['rice', 'maize', 'chickpea', 'kidneybeans', 'pigeonpeas',\n",
       "       'mothbeans', 'mungbean', 'blackgram', 'lentil', 'pomegranate',\n",
       "       'banana', 'mango', 'grapes', 'watermelon', 'muskmelon', 'apple',\n",
       "       'orange', 'papaya', 'coconut', 'cotton', 'jute', 'coffee'],\n",
       "      dtype=object)"
      ]
     },
     "execution_count": 8,
     "metadata": {},
     "output_type": "execute_result"
    }
   ],
   "source": [
    "df['label'].unique()"
   ]
  },
  {
   "cell_type": "code",
   "execution_count": 9,
   "id": "f9d3e80a",
   "metadata": {
    "execution": {
     "iopub.execute_input": "2023-02-05T04:21:16.137515Z",
     "iopub.status.busy": "2023-02-05T04:21:16.136974Z",
     "iopub.status.idle": "2023-02-05T04:21:16.143262Z",
     "shell.execute_reply": "2023-02-05T04:21:16.142657Z"
    },
    "papermill": {
     "duration": 0.018495,
     "end_time": "2023-02-05T04:21:16.144973",
     "exception": false,
     "start_time": "2023-02-05T04:21:16.126478",
     "status": "completed"
    },
    "tags": []
   },
   "outputs": [
    {
     "data": {
      "text/plain": [
       "N                int64\n",
       "P                int64\n",
       "K                int64\n",
       "temperature    float64\n",
       "humidity       float64\n",
       "ph             float64\n",
       "rainfall       float64\n",
       "label           object\n",
       "dtype: object"
      ]
     },
     "execution_count": 9,
     "metadata": {},
     "output_type": "execute_result"
    }
   ],
   "source": [
    "df.dtypes"
   ]
  },
  {
   "cell_type": "code",
   "execution_count": 10,
   "id": "ee70d336",
   "metadata": {
    "execution": {
     "iopub.execute_input": "2023-02-05T04:21:16.165633Z",
     "iopub.status.busy": "2023-02-05T04:21:16.165085Z",
     "iopub.status.idle": "2023-02-05T04:21:16.174428Z",
     "shell.execute_reply": "2023-02-05T04:21:16.173565Z"
    },
    "papermill": {
     "duration": 0.021688,
     "end_time": "2023-02-05T04:21:16.176288",
     "exception": false,
     "start_time": "2023-02-05T04:21:16.154600",
     "status": "completed"
    },
    "tags": []
   },
   "outputs": [
    {
     "data": {
      "text/plain": [
       "rice           100\n",
       "maize          100\n",
       "jute           100\n",
       "cotton         100\n",
       "coconut        100\n",
       "papaya         100\n",
       "orange         100\n",
       "apple          100\n",
       "muskmelon      100\n",
       "watermelon     100\n",
       "grapes         100\n",
       "mango          100\n",
       "banana         100\n",
       "pomegranate    100\n",
       "lentil         100\n",
       "blackgram      100\n",
       "mungbean       100\n",
       "mothbeans      100\n",
       "pigeonpeas     100\n",
       "kidneybeans    100\n",
       "chickpea       100\n",
       "coffee         100\n",
       "Name: label, dtype: int64"
      ]
     },
     "execution_count": 10,
     "metadata": {},
     "output_type": "execute_result"
    }
   ],
   "source": [
    "df['label'].value_counts()"
   ]
  },
  {
   "cell_type": "code",
   "execution_count": 11,
   "id": "daf66139",
   "metadata": {
    "execution": {
     "iopub.execute_input": "2023-02-05T04:21:16.197718Z",
     "iopub.status.busy": "2023-02-05T04:21:16.196770Z",
     "iopub.status.idle": "2023-02-05T04:21:16.571849Z",
     "shell.execute_reply": "2023-02-05T04:21:16.570497Z"
    },
    "papermill": {
     "duration": 0.388078,
     "end_time": "2023-02-05T04:21:16.574166",
     "exception": false,
     "start_time": "2023-02-05T04:21:16.186088",
     "status": "completed"
    },
    "tags": []
   },
   "outputs": [
    {
     "data": {
      "text/plain": [
       "<AxesSubplot:>"
      ]
     },
     "execution_count": 11,
     "metadata": {},
     "output_type": "execute_result"
    },
    {
     "data": {
      "image/png": "[encoded data removed]",
      "text/plain": [
       "<Figure size 432x288 with 2 Axes>"
      ]
     },
     "metadata": {
      "needs_background": "light"
     },
     "output_type": "display_data"
    }
   ],
   "source": [
    "sns.heatmap(df.corr(),annot=True)"
   ]
  },
  {
   "cell_type": "markdown",
   "id": "804c7531",
   "metadata": {
    "papermill": {
     "duration": 0.010511,
     "end_time": "2023-02-05T04:21:16.595564",
     "exception": false,
     "start_time": "2023-02-05T04:21:16.585053",
     "status": "completed"
    },
    "tags": []
   },
   "source": [
    "### Seperating features and target label"
   ]
  },
  {
   "cell_type": "code",
   "execution_count": 12,
   "id": "6442f1eb",
   "metadata": {
    "execution": {
     "iopub.execute_input": "2023-02-05T04:21:16.618614Z",
     "iopub.status.busy": "2023-02-05T04:21:16.618197Z",
     "iopub.status.idle": "2023-02-05T04:21:16.625734Z",
     "shell.execute_reply": "2023-02-05T04:21:16.624797Z"
    },
    "papermill": {
     "duration": 0.021765,
     "end_time": "2023-02-05T04:21:16.628044",
     "exception": false,
     "start_time": "2023-02-05T04:21:16.606279",
     "status": "completed"
    },
    "tags": []
   },
   "outputs": [],
   "source": [
    "features = df[['N', 'P','K','temperature', 'humidity', 'ph', 'rainfall']]\n",
    "target = df['label']\n",
    "#features = df[['temperature', 'humidity', 'ph', 'rainfall']]\n",
    "labels = df['label']"
   ]
  },
  {
   "cell_type": "code",
   "execution_count": 13,
   "id": "28d225c2",
   "metadata": {
    "execution": {
     "iopub.execute_input": "2023-02-05T04:21:16.651614Z",
     "iopub.status.busy": "2023-02-05T04:21:16.651171Z",
     "iopub.status.idle": "2023-02-05T04:21:16.655508Z",
     "shell.execute_reply": "2023-02-05T04:21:16.654645Z"
    },
    "papermill": {
     "duration": 0.018871,
     "end_time": "2023-02-05T04:21:16.657815",
     "exception": false,
     "start_time": "2023-02-05T04:21:16.638944",
     "status": "completed"
    },
    "tags": []
   },
   "outputs": [],
   "source": [
    "# Initialzing empty lists to append all model's name and corresponding name\n",
    "acc = []\n",
    "model = []"
   ]
  },
  {
   "cell_type": "code",
   "execution_count": 14,
   "id": "2bfc6ccb",
   "metadata": {
    "execution": {
     "iopub.execute_input": "2023-02-05T04:21:16.681297Z",
     "iopub.status.busy": "2023-02-05T04:21:16.680934Z",
     "iopub.status.idle": "2023-02-05T04:21:16.687768Z",
     "shell.execute_reply": "2023-02-05T04:21:16.686627Z"
    },
    "papermill": {
     "duration": 0.021074,
     "end_time": "2023-02-05T04:21:16.689996",
     "exception": false,
     "start_time": "2023-02-05T04:21:16.668922",
     "status": "completed"
    },
    "tags": []
   },
   "outputs": [],
   "source": [
    "# Splitting into train and test data\n",
    "\n",
    "from sklearn.model_selection import train_test_split\n",
    "Xtrain, Xtest, Ytrain, Ytest = train_test_split(features,target,test_size = 0.2,random_state =2)"
   ]
  },
  {
   "cell_type": "code",
   "execution_count": 15,
   "id": "6075daff",
   "metadata": {
    "execution": {
     "iopub.execute_input": "2023-02-05T04:21:16.713489Z",
     "iopub.status.busy": "2023-02-05T04:21:16.713153Z",
     "iopub.status.idle": "2023-02-05T04:21:16.719415Z",
     "shell.execute_reply": "2023-02-05T04:21:16.718799Z"
    },
    "papermill": {
     "duration": 0.020083,
     "end_time": "2023-02-05T04:21:16.721042",
     "exception": false,
     "start_time": "2023-02-05T04:21:16.700959",
     "status": "completed"
    },
    "tags": []
   },
   "outputs": [
    {
     "data": {
      "text/plain": [
       "1936         cotton\n",
       "610        mungbean\n",
       "372     kidneybeans\n",
       "1559          apple\n",
       "1500          apple\n",
       "           ...     \n",
       "1071         banana\n",
       "433      pigeonpeas\n",
       "674        mungbean\n",
       "1099         banana\n",
       "1608         orange\n",
       "Name: label, Length: 1760, dtype: object"
      ]
     },
     "execution_count": 15,
     "metadata": {},
     "output_type": "execute_result"
    }
   ],
   "source": [
    "Ytrain"
   ]
  },
  {
   "cell_type": "markdown",
   "id": "6a904139",
   "metadata": {
    "papermill": {
     "duration": 0.010179,
     "end_time": "2023-02-05T04:21:16.741971",
     "exception": false,
     "start_time": "2023-02-05T04:21:16.731792",
     "status": "completed"
    },
    "tags": []
   },
   "source": [
    "# Decision Tree"
   ]
  },
  {
   "cell_type": "code",
   "execution_count": 16,
   "id": "101d1532",
   "metadata": {
    "execution": {
     "iopub.execute_input": "2023-02-05T04:21:16.765901Z",
     "iopub.status.busy": "2023-02-05T04:21:16.765488Z",
     "iopub.status.idle": "2023-02-05T04:21:16.804875Z",
     "shell.execute_reply": "2023-02-05T04:21:16.803442Z"
    },
    "papermill": {
     "duration": 0.05393,
     "end_time": "2023-02-05T04:21:16.807141",
     "exception": false,
     "start_time": "2023-02-05T04:21:16.753211",
     "status": "completed"
    },
    "tags": []
   },
   "outputs": [
    {
     "name": "stdout",
     "output_type": "stream",
     "text": [
      "DecisionTrees's Accuracy is:  90.0\n",
      "              precision    recall  f1-score   support\n",
      "\n",
      "       apple       1.00      1.00      1.00        13\n",
      "      banana       1.00      1.00      1.00        17\n",
      "   blackgram       0.59      1.00      0.74        16\n",
      "    chickpea       1.00      1.00      1.00        21\n",
      "     coconut       0.91      1.00      0.95        21\n",
      "      coffee       1.00      1.00      1.00        22\n",
      "      cotton       1.00      1.00      1.00        20\n",
      "      grapes       1.00      1.00      1.00        18\n",
      "        jute       0.74      0.93      0.83        28\n",
      " kidneybeans       0.00      0.00      0.00        14\n",
      "      lentil       0.68      1.00      0.81        23\n",
      "       maize       1.00      1.00      1.00        21\n",
      "       mango       1.00      1.00      1.00        26\n",
      "   mothbeans       0.00      0.00      0.00        19\n",
      "    mungbean       1.00      1.00      1.00        24\n",
      "   muskmelon       1.00      1.00      1.00        23\n",
      "      orange       1.00      1.00      1.00        29\n",
      "      papaya       1.00      0.84      0.91        19\n",
      "  pigeonpeas       0.62      1.00      0.77        18\n",
      " pomegranate       1.00      1.00      1.00        17\n",
      "        rice       1.00      0.62      0.77        16\n",
      "  watermelon       1.00      1.00      1.00        15\n",
      "\n",
      "    accuracy                           0.90       440\n",
      "   macro avg       0.84      0.88      0.85       440\n",
      "weighted avg       0.86      0.90      0.87       440\n",
      "\n"
     ]
    }
   ],
   "source": [
    "from sklearn.tree import DecisionTreeClassifier\n",
    "\n",
    "DecisionTree = DecisionTreeClassifier(criterion=\"entropy\",random_state=2,max_depth=5)\n",
    "\n",
    "DecisionTree.fit(Xtrain,Ytrain)\n",
    "\n",
    "predicted_values = DecisionTree.predict(Xtest)\n",
    "x = metrics.accuracy_score(Ytest, predicted_values)\n",
    "acc.append(x)\n",
    "model.append('Decision Tree')\n",
    "print(\"DecisionTrees's Accuracy is: \", x*100)\n",
    "\n",
    "print(classification_report(Ytest,predicted_values))"
   ]
  },
  {
   "cell_type": "code",
   "execution_count": 17,
   "id": "e90278b3",
   "metadata": {
    "execution": {
     "iopub.execute_input": "2023-02-05T04:21:16.831514Z",
     "iopub.status.busy": "2023-02-05T04:21:16.831128Z",
     "iopub.status.idle": "2023-02-05T04:21:16.836022Z",
     "shell.execute_reply": "2023-02-05T04:21:16.834846Z"
    },
    "papermill": {
     "duration": 0.019692,
     "end_time": "2023-02-05T04:21:16.837863",
     "exception": false,
     "start_time": "2023-02-05T04:21:16.818171",
     "status": "completed"
    },
    "tags": []
   },
   "outputs": [],
   "source": [
    "from sklearn.model_selection import cross_val_score"
   ]
  },
  {
   "cell_type": "code",
   "execution_count": 18,
   "id": "d07ae750",
   "metadata": {
    "execution": {
     "iopub.execute_input": "2023-02-05T04:21:16.861986Z",
     "iopub.status.busy": "2023-02-05T04:21:16.861605Z",
     "iopub.status.idle": "2023-02-05T04:21:16.954901Z",
     "shell.execute_reply": "2023-02-05T04:21:16.953610Z"
    },
    "papermill": {
     "duration": 0.108215,
     "end_time": "2023-02-05T04:21:16.957253",
     "exception": false,
     "start_time": "2023-02-05T04:21:16.849038",
     "status": "completed"
    },
    "tags": []
   },
   "outputs": [],
   "source": [
    "# Cross validation score (Decision Tree)\n",
    "score = cross_val_score(DecisionTree, features, target,cv=5)"
   ]
  },
  {
   "cell_type": "code",
   "execution_count": 19,
   "id": "912bff64",
   "metadata": {
    "execution": {
     "iopub.execute_input": "2023-02-05T04:21:16.981948Z",
     "iopub.status.busy": "2023-02-05T04:21:16.981515Z",
     "iopub.status.idle": "2023-02-05T04:21:16.987819Z",
     "shell.execute_reply": "2023-02-05T04:21:16.987093Z"
    },
    "papermill": {
     "duration": 0.021129,
     "end_time": "2023-02-05T04:21:16.989482",
     "exception": false,
     "start_time": "2023-02-05T04:21:16.968353",
     "status": "completed"
    },
    "tags": []
   },
   "outputs": [
    {
     "data": {
      "text/plain": [
       "array([0.93636364, 0.90909091, 0.91818182, 0.87045455, 0.93636364])"
      ]
     },
     "execution_count": 19,
     "metadata": {},
     "output_type": "execute_result"
    }
   ],
   "source": [
    "score"
   ]
  },
  {
   "cell_type": "markdown",
   "id": "2285ca1a",
   "metadata": {
    "papermill": {
     "duration": 0.010761,
     "end_time": "2023-02-05T04:21:17.011233",
     "exception": false,
     "start_time": "2023-02-05T04:21:17.000472",
     "status": "completed"
    },
    "tags": []
   },
   "source": [
    "### Saving trained Decision Tree model"
   ]
  },
  {
   "cell_type": "code",
   "execution_count": 20,
   "id": "dbf59467",
   "metadata": {
    "execution": {
     "iopub.execute_input": "2023-02-05T04:21:17.035355Z",
     "iopub.status.busy": "2023-02-05T04:21:17.034820Z",
     "iopub.status.idle": "2023-02-05T04:21:17.039357Z",
     "shell.execute_reply": "2023-02-05T04:21:17.038707Z"
    },
    "papermill": {
     "duration": 0.018749,
     "end_time": "2023-02-05T04:21:17.041472",
     "exception": false,
     "start_time": "2023-02-05T04:21:17.022723",
     "status": "completed"
    },
    "tags": []
   },
   "outputs": [],
   "source": [
    "import pickle\n",
    "# Dump the trained Naive Bayes classifier with Pickle\n",
    "DT_pkl_filename = 'DecisionTree.pkl'\n",
    "# Open the file to save as pkl file\n",
    "DT_Model_pkl = open(DT_pkl_filename, 'wb')\n",
    "pickle.dump(DecisionTree, DT_Model_pkl)\n",
    "# Close the pickle instances\n",
    "DT_Model_pkl.close()"
   ]
  },
  {
   "cell_type": "markdown",
   "id": "5deeae1d",
   "metadata": {
    "papermill": {
     "duration": 0.010895,
     "end_time": "2023-02-05T04:21:17.063667",
     "exception": false,
     "start_time": "2023-02-05T04:21:17.052772",
     "status": "completed"
    },
    "tags": []
   },
   "source": [
    "# Guassian Naive Bayes"
   ]
  },
  {
   "cell_type": "code",
   "execution_count": 21,
   "id": "cb849444",
   "metadata": {
    "execution": {
     "iopub.execute_input": "2023-02-05T04:21:17.087782Z",
     "iopub.status.busy": "2023-02-05T04:21:17.087258Z",
     "iopub.status.idle": "2023-02-05T04:21:17.113093Z",
     "shell.execute_reply": "2023-02-05T04:21:17.111957Z"
    },
    "papermill": {
     "duration": 0.040529,
     "end_time": "2023-02-05T04:21:17.115186",
     "exception": false,
     "start_time": "2023-02-05T04:21:17.074657",
     "status": "completed"
    },
    "tags": []
   },
   "outputs": [
    {
     "name": "stdout",
     "output_type": "stream",
     "text": [
      "Naive Bayes's Accuracy is:  0.990909090909091\n",
      "              precision    recall  f1-score   support\n",
      "\n",
      "       apple       1.00      1.00      1.00        13\n",
      "      banana       1.00      1.00      1.00        17\n",
      "   blackgram       1.00      1.00      1.00        16\n",
      "    chickpea       1.00      1.00      1.00        21\n",
      "     coconut       1.00      1.00      1.00        21\n",
      "      coffee       1.00      1.00      1.00        22\n",
      "      cotton       1.00      1.00      1.00        20\n",
      "      grapes       1.00      1.00      1.00        18\n",
      "        jute       0.88      1.00      0.93        28\n",
      " kidneybeans       1.00      1.00      1.00        14\n",
      "      lentil       1.00      1.00      1.00        23\n",
      "       maize       1.00      1.00      1.00        21\n",
      "       mango       1.00      1.00      1.00        26\n",
      "   mothbeans       1.00      1.00      1.00        19\n",
      "    mungbean       1.00      1.00      1.00        24\n",
      "   muskmelon       1.00      1.00      1.00        23\n",
      "      orange       1.00      1.00      1.00        29\n",
      "      papaya       1.00      1.00      1.00        19\n",
      "  pigeonpeas       1.00      1.00      1.00        18\n",
      " pomegranate       1.00      1.00      1.00        17\n",
      "        rice       1.00      0.75      0.86        16\n",
      "  watermelon       1.00      1.00      1.00        15\n",
      "\n",
      "    accuracy                           0.99       440\n",
      "   macro avg       0.99      0.99      0.99       440\n",
      "weighted avg       0.99      0.99      0.99       440\n",
      "\n"
     ]
    }
   ],
   "source": [
    "from sklearn.naive_bayes import GaussianNB\n",
    "\n",
    "NaiveBayes = GaussianNB()\n",
    "\n",
    "NaiveBayes.fit(Xtrain,Ytrain)\n",
    "\n",
    "predicted_values = NaiveBayes.predict(Xtest)\n",
    "x = metrics.accuracy_score(Ytest, predicted_values)\n",
    "acc.append(x)\n",
    "model.append('Naive Bayes')\n",
    "print(\"Naive Bayes's Accuracy is: \", x)\n",
    "\n",
    "print(classification_report(Ytest,predicted_values))"
   ]
  },
  {
   "cell_type": "code",
   "execution_count": 22,
   "id": "a0e852e0",
   "metadata": {
    "execution": {
     "iopub.execute_input": "2023-02-05T04:21:17.139175Z",
     "iopub.status.busy": "2023-02-05T04:21:17.138821Z",
     "iopub.status.idle": "2023-02-05T04:21:17.188057Z",
     "shell.execute_reply": "2023-02-05T04:21:17.187111Z"
    },
    "papermill": {
     "duration": 0.063897,
     "end_time": "2023-02-05T04:21:17.190352",
     "exception": false,
     "start_time": "2023-02-05T04:21:17.126455",
     "status": "completed"
    },
    "tags": []
   },
   "outputs": [
    {
     "data": {
      "text/plain": [
       "array([0.99772727, 0.99545455, 0.99545455, 0.99545455, 0.99090909])"
      ]
     },
     "execution_count": 22,
     "metadata": {},
     "output_type": "execute_result"
    }
   ],
   "source": [
    "# Cross validation score (NaiveBayes)\n",
    "score = cross_val_score(NaiveBayes,features,target,cv=5)\n",
    "score"
   ]
  },
  {
   "cell_type": "markdown",
   "id": "cc31a8f1",
   "metadata": {
    "papermill": {
     "duration": 0.010929,
     "end_time": "2023-02-05T04:21:17.212760",
     "exception": false,
     "start_time": "2023-02-05T04:21:17.201831",
     "status": "completed"
    },
    "tags": []
   },
   "source": [
    "### Saving trained Guassian Naive Bayes model"
   ]
  },
  {
   "cell_type": "code",
   "execution_count": 23,
   "id": "c00ea1b4",
   "metadata": {
    "execution": {
     "iopub.execute_input": "2023-02-05T04:21:17.237324Z",
     "iopub.status.busy": "2023-02-05T04:21:17.236148Z",
     "iopub.status.idle": "2023-02-05T04:21:17.241928Z",
     "shell.execute_reply": "2023-02-05T04:21:17.241176Z"
    },
    "papermill": {
     "duration": 0.019567,
     "end_time": "2023-02-05T04:21:17.243629",
     "exception": false,
     "start_time": "2023-02-05T04:21:17.224062",
     "status": "completed"
    },
    "tags": []
   },
   "outputs": [],
   "source": [
    "import pickle\n",
    "# Dump the trained Naive Bayes classifier with Pickle\n",
    "NB_pkl_filename = 'NBClassifier.pkl'\n",
    "# Open the file to save as pkl file\n",
    "NB_Model_pkl = open(NB_pkl_filename, 'wb')\n",
    "pickle.dump(NaiveBayes, NB_Model_pkl)\n",
    "# Close the pickle instances\n",
    "NB_Model_pkl.close()"
   ]
  },
  {
   "cell_type": "markdown",
   "id": "3de8131a",
   "metadata": {
    "papermill": {
     "duration": 0.010603,
     "end_time": "2023-02-05T04:21:17.265326",
     "exception": false,
     "start_time": "2023-02-05T04:21:17.254723",
     "status": "completed"
    },
    "tags": []
   },
   "source": [
    "# Support Vector Machine (SVM)"
   ]
  },
  {
   "cell_type": "code",
   "execution_count": 24,
   "id": "94e668a6",
   "metadata": {
    "execution": {
     "iopub.execute_input": "2023-02-05T04:21:17.288368Z",
     "iopub.status.busy": "2023-02-05T04:21:17.288041Z",
     "iopub.status.idle": "2023-02-05T04:21:17.338709Z",
     "shell.execute_reply": "2023-02-05T04:21:17.337182Z"
    },
    "papermill": {
     "duration": 0.065114,
     "end_time": "2023-02-05T04:21:17.341193",
     "exception": false,
     "start_time": "2023-02-05T04:21:17.276079",
     "status": "completed"
    },
    "tags": []
   },
   "outputs": [
    {
     "name": "stdout",
     "output_type": "stream",
     "text": [
      "SVM's Accuracy is:  0.9795454545454545\n",
      "              precision    recall  f1-score   support\n",
      "\n",
      "       apple       1.00      1.00      1.00        13\n",
      "      banana       1.00      1.00      1.00        17\n",
      "   blackgram       1.00      1.00      1.00        16\n",
      "    chickpea       1.00      1.00      1.00        21\n",
      "     coconut       1.00      1.00      1.00        21\n",
      "      coffee       1.00      0.95      0.98        22\n",
      "      cotton       0.95      1.00      0.98        20\n",
      "      grapes       1.00      1.00      1.00        18\n",
      "        jute       0.83      0.89      0.86        28\n",
      " kidneybeans       1.00      1.00      1.00        14\n",
      "      lentil       1.00      1.00      1.00        23\n",
      "       maize       1.00      0.95      0.98        21\n",
      "       mango       1.00      1.00      1.00        26\n",
      "   mothbeans       1.00      1.00      1.00        19\n",
      "    mungbean       1.00      1.00      1.00        24\n",
      "   muskmelon       1.00      1.00      1.00        23\n",
      "      orange       1.00      1.00      1.00        29\n",
      "      papaya       1.00      1.00      1.00        19\n",
      "  pigeonpeas       1.00      1.00      1.00        18\n",
      " pomegranate       1.00      1.00      1.00        17\n",
      "        rice       0.80      0.75      0.77        16\n",
      "  watermelon       1.00      1.00      1.00        15\n",
      "\n",
      "    accuracy                           0.98       440\n",
      "   macro avg       0.98      0.98      0.98       440\n",
      "weighted avg       0.98      0.98      0.98       440\n",
      "\n"
     ]
    }
   ],
   "source": [
    "from sklearn.svm import SVC\n",
    "# data normalization with sklearn\n",
    "from sklearn.preprocessing import MinMaxScaler\n",
    "# fit scaler on training data\n",
    "norm = MinMaxScaler().fit(Xtrain)\n",
    "X_train_norm = norm.transform(Xtrain)\n",
    "# transform testing dataabs\n",
    "X_test_norm = norm.transform(Xtest)\n",
    "SVM = SVC(kernel='poly', degree=3, C=1)\n",
    "SVM.fit(X_train_norm,Ytrain)\n",
    "predicted_values = SVM.predict(X_test_norm)\n",
    "x = metrics.accuracy_score(Ytest, predicted_values)\n",
    "acc.append(x)\n",
    "model.append('SVM')\n",
    "print(\"SVM's Accuracy is: \", x)\n",
    "\n",
    "print(classification_report(Ytest,predicted_values))"
   ]
  },
  {
   "cell_type": "code",
   "execution_count": 25,
   "id": "1a48e0a3",
   "metadata": {
    "execution": {
     "iopub.execute_input": "2023-02-05T04:21:17.365269Z",
     "iopub.status.busy": "2023-02-05T04:21:17.364892Z",
     "iopub.status.idle": "2023-02-05T04:21:17.547609Z",
     "shell.execute_reply": "2023-02-05T04:21:17.546103Z"
    },
    "papermill": {
     "duration": 0.197563,
     "end_time": "2023-02-05T04:21:17.550183",
     "exception": false,
     "start_time": "2023-02-05T04:21:17.352620",
     "status": "completed"
    },
    "tags": []
   },
   "outputs": [
    {
     "data": {
      "text/plain": [
       "array([0.97954545, 0.975     , 0.98863636, 0.98863636, 0.98181818])"
      ]
     },
     "execution_count": 25,
     "metadata": {},
     "output_type": "execute_result"
    }
   ],
   "source": [
    "# Cross validation score (SVM)\n",
    "score = cross_val_score(SVM,features,target,cv=5)\n",
    "score"
   ]
  },
  {
   "cell_type": "code",
   "execution_count": 26,
   "id": "04215cec",
   "metadata": {
    "execution": {
     "iopub.execute_input": "2023-02-05T04:21:17.575459Z",
     "iopub.status.busy": "2023-02-05T04:21:17.575083Z",
     "iopub.status.idle": "2023-02-05T04:21:17.579188Z",
     "shell.execute_reply": "2023-02-05T04:21:17.578340Z"
    },
    "papermill": {
     "duration": 0.019407,
     "end_time": "2023-02-05T04:21:17.581464",
     "exception": false,
     "start_time": "2023-02-05T04:21:17.562057",
     "status": "completed"
    },
    "tags": []
   },
   "outputs": [],
   "source": [
    "#Saving trained SVM model"
   ]
  },
  {
   "cell_type": "code",
   "execution_count": 27,
   "id": "27e19400",
   "metadata": {
    "execution": {
     "iopub.execute_input": "2023-02-05T04:21:17.606692Z",
     "iopub.status.busy": "2023-02-05T04:21:17.606078Z",
     "iopub.status.idle": "2023-02-05T04:21:17.612466Z",
     "shell.execute_reply": "2023-02-05T04:21:17.610988Z"
    },
    "papermill": {
     "duration": 0.022258,
     "end_time": "2023-02-05T04:21:17.615202",
     "exception": false,
     "start_time": "2023-02-05T04:21:17.592944",
     "status": "completed"
    },
    "tags": []
   },
   "outputs": [],
   "source": [
    "import pickle\n",
    "# Dump the trained SVM classifier with Pickle\n",
    "SVM_pkl_filename = 'SVMClassifier.pkl'\n",
    "# Open the file to save as pkl file\n",
    "SVM_Model_pkl = open(SVM_pkl_filename, 'wb')\n",
    "pickle.dump(SVM, SVM_Model_pkl)\n",
    "# Close the pickle instances\n",
    "SVM_Model_pkl.close()"
   ]
  },
  {
   "cell_type": "markdown",
   "id": "4840230a",
   "metadata": {
    "papermill": {
     "duration": 0.011394,
     "end_time": "2023-02-05T04:21:17.638775",
     "exception": false,
     "start_time": "2023-02-05T04:21:17.627381",
     "status": "completed"
    },
    "tags": []
   },
   "source": [
    "# Logistic Regression"
   ]
  },
  {
   "cell_type": "code",
   "execution_count": 28,
   "id": "d1f09f91",
   "metadata": {
    "execution": {
     "iopub.execute_input": "2023-02-05T04:21:17.663742Z",
     "iopub.status.busy": "2023-02-05T04:21:17.663368Z",
     "iopub.status.idle": "2023-02-05T04:21:17.946537Z",
     "shell.execute_reply": "2023-02-05T04:21:17.945717Z"
    },
    "papermill": {
     "duration": 0.299354,
     "end_time": "2023-02-05T04:21:17.949651",
     "exception": false,
     "start_time": "2023-02-05T04:21:17.650297",
     "status": "completed"
    },
    "tags": []
   },
   "outputs": [
    {
     "name": "stdout",
     "output_type": "stream",
     "text": [
      "Logistic Regression's Accuracy is:  0.9522727272727273\n",
      "              precision    recall  f1-score   support\n",
      "\n",
      "       apple       1.00      1.00      1.00        13\n",
      "      banana       1.00      1.00      1.00        17\n",
      "   blackgram       0.86      0.75      0.80        16\n",
      "    chickpea       1.00      1.00      1.00        21\n",
      "     coconut       1.00      1.00      1.00        21\n",
      "      coffee       1.00      1.00      1.00        22\n",
      "      cotton       0.86      0.90      0.88        20\n",
      "      grapes       1.00      1.00      1.00        18\n",
      "        jute       0.84      0.93      0.88        28\n",
      " kidneybeans       1.00      1.00      1.00        14\n",
      "      lentil       0.88      1.00      0.94        23\n",
      "       maize       0.90      0.86      0.88        21\n",
      "       mango       0.96      1.00      0.98        26\n",
      "   mothbeans       0.84      0.84      0.84        19\n",
      "    mungbean       1.00      0.96      0.98        24\n",
      "   muskmelon       1.00      1.00      1.00        23\n",
      "      orange       1.00      1.00      1.00        29\n",
      "      papaya       1.00      0.95      0.97        19\n",
      "  pigeonpeas       1.00      1.00      1.00        18\n",
      " pomegranate       1.00      1.00      1.00        17\n",
      "        rice       0.85      0.69      0.76        16\n",
      "  watermelon       1.00      1.00      1.00        15\n",
      "\n",
      "    accuracy                           0.95       440\n",
      "   macro avg       0.95      0.95      0.95       440\n",
      "weighted avg       0.95      0.95      0.95       440\n",
      "\n"
     ]
    }
   ],
   "source": [
    "from sklearn.linear_model import LogisticRegression\n",
    "\n",
    "LogReg = LogisticRegression(random_state=2)\n",
    "\n",
    "LogReg.fit(Xtrain,Ytrain)\n",
    "\n",
    "predicted_values = LogReg.predict(Xtest)\n",
    "\n",
    "x = metrics.accuracy_score(Ytest, predicted_values)\n",
    "acc.append(x)\n",
    "model.append('Logistic Regression')\n",
    "print(\"Logistic Regression's Accuracy is: \", x)\n",
    "\n",
    "print(classification_report(Ytest,predicted_values))"
   ]
  },
  {
   "cell_type": "code",
   "execution_count": 29,
   "id": "89f77ca5",
   "metadata": {
    "execution": {
     "iopub.execute_input": "2023-02-05T04:21:17.982540Z",
     "iopub.status.busy": "2023-02-05T04:21:17.981353Z",
     "iopub.status.idle": "2023-02-05T04:21:19.211103Z",
     "shell.execute_reply": "2023-02-05T04:21:19.210386Z"
    },
    "papermill": {
     "duration": 1.247917,
     "end_time": "2023-02-05T04:21:19.213177",
     "exception": false,
     "start_time": "2023-02-05T04:21:17.965260",
     "status": "completed"
    },
    "tags": []
   },
   "outputs": [
    {
     "data": {
      "text/plain": [
       "array([0.95      , 0.96590909, 0.94772727, 0.96590909, 0.94318182])"
      ]
     },
     "execution_count": 29,
     "metadata": {},
     "output_type": "execute_result"
    }
   ],
   "source": [
    "# Cross validation score (Logistic Regression)\n",
    "score = cross_val_score(LogReg,features,target,cv=5)\n",
    "score"
   ]
  },
  {
   "cell_type": "markdown",
   "id": "baa3ae0f",
   "metadata": {
    "papermill": {
     "duration": 0.015151,
     "end_time": "2023-02-05T04:21:19.244808",
     "exception": false,
     "start_time": "2023-02-05T04:21:19.229657",
     "status": "completed"
    },
    "tags": []
   },
   "source": [
    "### Saving trained Logistic Regression model"
   ]
  },
  {
   "cell_type": "code",
   "execution_count": 30,
   "id": "fd43fe37",
   "metadata": {
    "execution": {
     "iopub.execute_input": "2023-02-05T04:21:19.277000Z",
     "iopub.status.busy": "2023-02-05T04:21:19.276640Z",
     "iopub.status.idle": "2023-02-05T04:21:19.281658Z",
     "shell.execute_reply": "2023-02-05T04:21:19.280954Z"
    },
    "papermill": {
     "duration": 0.024971,
     "end_time": "2023-02-05T04:21:19.285110",
     "exception": false,
     "start_time": "2023-02-05T04:21:19.260139",
     "status": "completed"
    },
    "tags": []
   },
   "outputs": [],
   "source": [
    "import pickle\n",
    "# Dump the trained Naive Bayes classifier with Pickle\n",
    "LR_pkl_filename = 'LogisticRegression.pkl'\n",
    "# Open the file to save as pkl file\n",
    "LR_Model_pkl = open(DT_pkl_filename, 'wb')\n",
    "pickle.dump(LogReg, LR_Model_pkl)\n",
    "# Close the pickle instances\n",
    "LR_Model_pkl.close()"
   ]
  },
  {
   "cell_type": "markdown",
   "id": "1b2b3ec1",
   "metadata": {
    "papermill": {
     "duration": 0.014624,
     "end_time": "2023-02-05T04:21:19.314659",
     "exception": false,
     "start_time": "2023-02-05T04:21:19.300035",
     "status": "completed"
    },
    "tags": []
   },
   "source": [
    "# Random Forest"
   ]
  },
  {
   "cell_type": "code",
   "execution_count": 31,
   "id": "e83a8b2c",
   "metadata": {
    "execution": {
     "iopub.execute_input": "2023-02-05T04:21:19.341074Z",
     "iopub.status.busy": "2023-02-05T04:21:19.340765Z",
     "iopub.status.idle": "2023-02-05T04:21:19.493851Z",
     "shell.execute_reply": "2023-02-05T04:21:19.492926Z"
    },
    "papermill": {
     "duration": 0.168453,
     "end_time": "2023-02-05T04:21:19.496484",
     "exception": false,
     "start_time": "2023-02-05T04:21:19.328031",
     "status": "completed"
    },
    "tags": []
   },
   "outputs": [
    {
     "name": "stdout",
     "output_type": "stream",
     "text": [
      "RF's Accuracy is:  0.990909090909091\n",
      "              precision    recall  f1-score   support\n",
      "\n",
      "       apple       1.00      1.00      1.00        13\n",
      "      banana       1.00      1.00      1.00        17\n",
      "   blackgram       0.94      1.00      0.97        16\n",
      "    chickpea       1.00      1.00      1.00        21\n",
      "     coconut       1.00      1.00      1.00        21\n",
      "      coffee       1.00      1.00      1.00        22\n",
      "      cotton       1.00      1.00      1.00        20\n",
      "      grapes       1.00      1.00      1.00        18\n",
      "        jute       0.90      1.00      0.95        28\n",
      " kidneybeans       1.00      1.00      1.00        14\n",
      "      lentil       1.00      1.00      1.00        23\n",
      "       maize       1.00      1.00      1.00        21\n",
      "       mango       1.00      1.00      1.00        26\n",
      "   mothbeans       1.00      0.95      0.97        19\n",
      "    mungbean       1.00      1.00      1.00        24\n",
      "   muskmelon       1.00      1.00      1.00        23\n",
      "      orange       1.00      1.00      1.00        29\n",
      "      papaya       1.00      1.00      1.00        19\n",
      "  pigeonpeas       1.00      1.00      1.00        18\n",
      " pomegranate       1.00      1.00      1.00        17\n",
      "        rice       1.00      0.81      0.90        16\n",
      "  watermelon       1.00      1.00      1.00        15\n",
      "\n",
      "    accuracy                           0.99       440\n",
      "   macro avg       0.99      0.99      0.99       440\n",
      "weighted avg       0.99      0.99      0.99       440\n",
      "\n"
     ]
    }
   ],
   "source": [
    "from sklearn.ensemble import RandomForestClassifier\n",
    "\n",
    "RF = RandomForestClassifier(n_estimators=20, random_state=0)\n",
    "RF.fit(Xtrain,Ytrain)\n",
    "\n",
    "predicted_values = RF.predict(Xtest)\n",
    "\n",
    "x = metrics.accuracy_score(Ytest, predicted_values)\n",
    "acc.append(x)\n",
    "model.append('RF')\n",
    "print(\"RF's Accuracy is: \", x)\n",
    "\n",
    "print(classification_report(Ytest,predicted_values))"
   ]
  },
  {
   "cell_type": "code",
   "execution_count": 32,
   "id": "72cba395",
   "metadata": {
    "execution": {
     "iopub.execute_input": "2023-02-05T04:21:19.523334Z",
     "iopub.status.busy": "2023-02-05T04:21:19.522120Z",
     "iopub.status.idle": "2023-02-05T04:21:19.861559Z",
     "shell.execute_reply": "2023-02-05T04:21:19.860393Z"
    },
    "papermill": {
     "duration": 0.354199,
     "end_time": "2023-02-05T04:21:19.863622",
     "exception": false,
     "start_time": "2023-02-05T04:21:19.509423",
     "status": "completed"
    },
    "tags": []
   },
   "outputs": [
    {
     "data": {
      "text/plain": [
       "array([0.99772727, 0.99545455, 0.99772727, 0.99318182, 0.98863636])"
      ]
     },
     "execution_count": 32,
     "metadata": {},
     "output_type": "execute_result"
    }
   ],
   "source": [
    "# Cross validation score (Random Forest)\n",
    "score = cross_val_score(RF,features,target,cv=5)\n",
    "score"
   ]
  },
  {
   "cell_type": "markdown",
   "id": "c4441ae3",
   "metadata": {
    "papermill": {
     "duration": 0.011656,
     "end_time": "2023-02-05T04:21:19.887315",
     "exception": false,
     "start_time": "2023-02-05T04:21:19.875659",
     "status": "completed"
    },
    "tags": []
   },
   "source": [
    "### Saving trained Random Forest model"
   ]
  },
  {
   "cell_type": "code",
   "execution_count": 33,
   "id": "64edbe26",
   "metadata": {
    "execution": {
     "iopub.execute_input": "2023-02-05T04:21:19.912406Z",
     "iopub.status.busy": "2023-02-05T04:21:19.912076Z",
     "iopub.status.idle": "2023-02-05T04:21:19.918459Z",
     "shell.execute_reply": "2023-02-05T04:21:19.917723Z"
    },
    "papermill": {
     "duration": 0.021214,
     "end_time": "2023-02-05T04:21:19.920269",
     "exception": false,
     "start_time": "2023-02-05T04:21:19.899055",
     "status": "completed"
    },
    "tags": []
   },
   "outputs": [],
   "source": [
    "import pickle\n",
    "# Dump the trained Naive Bayes classifier with Pickle\n",
    "RF_pkl_filename = 'RandomForest.pkl'\n",
    "# Open the file to save as pkl file\n",
    "RF_Model_pkl = open(RF_pkl_filename, 'wb')\n",
    "pickle.dump(RF, RF_Model_pkl)\n",
    "# Close the pickle instances\n",
    "RF_Model_pkl.close()"
   ]
  },
  {
   "cell_type": "markdown",
   "id": "e8faf375",
   "metadata": {
    "papermill": {
     "duration": 0.011589,
     "end_time": "2023-02-05T04:21:19.943688",
     "exception": false,
     "start_time": "2023-02-05T04:21:19.932099",
     "status": "completed"
    },
    "tags": []
   },
   "source": [
    "## Accuracy Comparison"
   ]
  },
  {
   "cell_type": "code",
   "execution_count": 34,
   "id": "1c229dcc",
   "metadata": {
    "execution": {
     "iopub.execute_input": "2023-02-05T04:21:19.969303Z",
     "iopub.status.busy": "2023-02-05T04:21:19.968751Z",
     "iopub.status.idle": "2023-02-05T04:21:20.130101Z",
     "shell.execute_reply": "2023-02-05T04:21:20.128991Z"
    },
    "papermill": {
     "duration": 0.177238,
     "end_time": "2023-02-05T04:21:20.132670",
     "exception": false,
     "start_time": "2023-02-05T04:21:19.955432",
     "status": "completed"
    },
    "tags": []
   },
   "outputs": [
    {
     "data": {
      "text/plain": [
       "<AxesSubplot:title={'center':'Accuracy Comparison'}, xlabel='Accuracy', ylabel='Algorithm'>"
      ]
     },
     "execution_count": 34,
     "metadata": {},
     "output_type": "execute_result"
    },
    {
     "data": {
      "image/png": "[encoded data removed]",
      "text/plain": [
       "<Figure size 1000x500 with 1 Axes>"
      ]
     },
     "metadata": {
      "needs_background": "light"
     },
     "output_type": "display_data"
    }
   ],
   "source": [
    "plt.figure(figsize=[10,5],dpi = 100)\n",
    "plt.title('Accuracy Comparison')\n",
    "plt.xlabel('Accuracy')\n",
    "plt.ylabel('Algorithm')\n",
    "sns.barplot(x = acc,y = model,palette='dark')"
   ]
  },
  {
   "cell_type": "code",
   "execution_count": 35,
   "id": "75f8a6b1",
   "metadata": {
    "execution": {
     "iopub.execute_input": "2023-02-05T04:21:20.158724Z",
     "iopub.status.busy": "2023-02-05T04:21:20.158017Z",
     "iopub.status.idle": "2023-02-05T04:21:20.163806Z",
     "shell.execute_reply": "2023-02-05T04:21:20.162696Z"
    },
    "papermill": {
     "duration": 0.021181,
     "end_time": "2023-02-05T04:21:20.165954",
     "exception": false,
     "start_time": "2023-02-05T04:21:20.144773",
     "status": "completed"
    },
    "tags": []
   },
   "outputs": [
    {
     "name": "stdout",
     "output_type": "stream",
     "text": [
      "Decision Tree --> 0.9\n",
      "Naive Bayes --> 0.990909090909091\n",
      "SVM --> 0.9795454545454545\n",
      "Logistic Regression --> 0.9522727272727273\n",
      "RF --> 0.990909090909091\n"
     ]
    }
   ],
   "source": [
    "accuracy_models = dict(zip(model, acc))\n",
    "for k, v in accuracy_models.items():\n",
    "    print (k, '-->', v)"
   ]
  },
  {
   "cell_type": "markdown",
   "id": "43252a15",
   "metadata": {
    "papermill": {
     "duration": 0.011973,
     "end_time": "2023-02-05T04:21:20.189886",
     "exception": false,
     "start_time": "2023-02-05T04:21:20.177913",
     "status": "completed"
    },
    "tags": []
   },
   "source": [
    "## Making a prediction"
   ]
  },
  {
   "cell_type": "code",
   "execution_count": 36,
   "id": "01fa735c",
   "metadata": {
    "execution": {
     "iopub.execute_input": "2023-02-05T04:21:20.215794Z",
     "iopub.status.busy": "2023-02-05T04:21:20.215037Z",
     "iopub.status.idle": "2023-02-05T04:21:20.225086Z",
     "shell.execute_reply": "2023-02-05T04:21:20.223271Z"
    },
    "papermill": {
     "duration": 0.025064,
     "end_time": "2023-02-05T04:21:20.227038",
     "exception": false,
     "start_time": "2023-02-05T04:21:20.201974",
     "status": "completed"
    },
    "tags": []
   },
   "outputs": [
    {
     "name": "stdout",
     "output_type": "stream",
     "text": [
      "['coffee']\n"
     ]
    }
   ],
   "source": [
    "data = np.array([[104,18, 30, 23.603016, 60.3, 6.7, 140.91]])\n",
    "prediction = RF.predict(data)\n",
    "print(prediction)"
   ]
  },
  {
   "cell_type": "code",
   "execution_count": 37,
   "id": "eae91744",
   "metadata": {
    "execution": {
     "iopub.execute_input": "2023-02-05T04:21:20.252943Z",
     "iopub.status.busy": "2023-02-05T04:21:20.252191Z",
     "iopub.status.idle": "2023-02-05T04:21:20.260546Z",
     "shell.execute_reply": "2023-02-05T04:21:20.259455Z"
    },
    "papermill": {
     "duration": 0.023148,
     "end_time": "2023-02-05T04:21:20.262403",
     "exception": false,
     "start_time": "2023-02-05T04:21:20.239255",
     "status": "completed"
    },
    "tags": []
   },
   "outputs": [
    {
     "name": "stdout",
     "output_type": "stream",
     "text": [
      "['jute']\n"
     ]
    }
   ],
   "source": [
    "data = np.array([[83, 45, 60, 28, 70.3, 7.0, 150.9]])\n",
    "prediction = RF.predict(data)\n",
    "print(prediction)"
   ]
  }
 ],
 "metadata": {
  "kernelspec": {
   "display_name": "Python 3",
   "language": "python",
   "name": "python3"
  },
  "language_info": {
   "codemirror_mode": {
    "name": "ipython",
    "version": 3
   },
   "file_extension": ".py",
   "mimetype": "text/x-python",
   "name": "python",
   "nbconvert_exporter": "python",
   "pygments_lexer": "ipython3",
   "version": "3.7.12"
  },
  "papermill": {
   "default_parameters": {},
   "duration": 13.722723,
   "end_time": "2023-02-05T04:21:20.995216",
   "environment_variables": {},
   "exception": null,
   "input_path": "__notebook__.ipynb",
   "output_path": "__notebook__.ipynb",
   "parameters": {},
   "start_time": "2023-02-05T04:21:07.272493",
   "version": "2.3.4"
  }
 },
 "nbformat": 4,
 "nbformat_minor": 5
}
